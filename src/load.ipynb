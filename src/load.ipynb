{
 "cells": [
  {
   "cell_type": "code",
   "execution_count": 28,
   "metadata": {},
   "outputs": [
    {
     "data": {
      "text/plain": [
       "True"
      ]
     },
     "execution_count": 28,
     "metadata": {},
     "output_type": "execute_result"
    }
   ],
   "source": [
    "from dotenv import load_dotenv\n",
    "import os\n",
    "from openai import OpenAI\n",
    "from pinecone import Pinecone, ServerlessSpec\n",
    "import json\n",
    "load_dotenv()"
   ]
  },
  {
   "cell_type": "code",
   "execution_count": 9,
   "metadata": {},
   "outputs": [],
   "source": [
    "pc = Pinecone(api_key=os.getenv(\"PINECONE_API_KEY\"))\n",
    "pc.create_index(\n",
    "    name='fiancerag', \n",
    "    dimension=1536,\n",
    "    metric='cosine',\n",
    "    spec=ServerlessSpec(cloud=\"aws\", region=\"us-east-1\")\n",
    ")"
   ]
  },
  {
   "cell_type": "code",
   "execution_count": 27,
   "metadata": {},
   "outputs": [
    {
     "data": {
      "text/plain": [
       "[{'company': 'GameStop Corp.',\n",
       "  'ticker': 'GME',\n",
       "  'reason': 'Declining sales and struggling to adapt to digital game sales'},\n",
       " {'company': 'Bed Bath & Beyond Inc.',\n",
       "  'ticker': 'BBBY',\n",
       "  'reason': 'Fierce competition from online retailers and declining sales'},\n",
       " {'company': 'J.C. Penney Company Inc.',\n",
       "  'ticker': 'JCPNQ',\n",
       "  'reason': 'Bankruptcy and struggling to compete with online retailers'},\n",
       " {'company': 'Sears Holdings Corp.',\n",
       "  'ticker': 'SHLDQ',\n",
       "  'reason': 'Bankruptcy and struggling to compete with online retailers'},\n",
       " {'company': 'Coty Inc.',\n",
       "  'ticker': 'COTY',\n",
       "  'reason': 'Declining sales and struggling to compete with online beauty retailers'},\n",
       " {'company': \"Macy's Inc.\",\n",
       "  'ticker': 'M',\n",
       "  'reason': 'Declining sales and struggling to compete with online retailers'},\n",
       " {'company': 'Ford Motor Co.',\n",
       "  'ticker': 'F',\n",
       "  'reason': 'Declining sales and struggling to adapt to electric vehicle market'},\n",
       " {'company': 'General Motors Co.',\n",
       "  'ticker': 'GM',\n",
       "  'reason': 'Declining sales and struggling to adapt to electric vehicle market'}]"
      ]
     },
     "execution_count": 27,
     "metadata": {},
     "output_type": "execute_result"
    }
   ],
   "source": [
    "data = json.load(open('/Users/ceo/Desktop/headstarter_SWE/Final_Project/Buddyfin-AI/src/data/reviews.json'))"
   ]
  },
  {
   "cell_type": "code",
   "execution_count": 36,
   "metadata": {},
   "outputs": [
    {
     "ename": "SyntaxError",
     "evalue": "invalid syntax. Perhaps you forgot a comma? (944262968.py, line 6)",
     "output_type": "error",
     "traceback": [
      "\u001b[0;36m  Cell \u001b[0;32mIn[36], line 6\u001b[0;36m\u001b[0m\n\u001b[0;31m    input= stock['company']\u001b[0m\n\u001b[0m           ^\u001b[0m\n\u001b[0;31mSyntaxError\u001b[0m\u001b[0;31m:\u001b[0m invalid syntax. Perhaps you forgot a comma?\n"
     ]
    }
   ],
   "source": [
    "processed_data = []\n",
    "client = OpenAI()\n",
    "#We're going to embed the best_stocks and poor_stocks advice\n",
    "for review in data['best_stocks']:\n",
    "    response = client.embeddings.create(\n",
    "        input= review['company'],\n",
    "        model='text-embedding-3-small'\n",
    "    )\n",
    "    embedding = response.data[0].embedding\n",
    "    processed_data.append({\n",
    "        'values': embedding,\n",
    "        'id': review['company'],\n",
    "        'metadata': {\n",
    "            'type': 'best_stock',\n",
    "            'company': review['company'],\n",
    "            'ticker': review['ticker'],\n",
    "            'analysis': review['analyst_recommendation'],\n",
    "            'reason': review['reason']\n",
    "        }\n",
    "    })\n",
    "   \n",
    "    "
   ]
  },
  {
   "cell_type": "code",
   "execution_count": null,
   "metadata": {},
   "outputs": [],
   "source": []
  }
 ],
 "metadata": {
  "kernelspec": {
   "display_name": "finance_rag",
   "language": "python",
   "name": "python3"
  },
  "language_info": {
   "codemirror_mode": {
    "name": "ipython",
    "version": 3
   },
   "file_extension": ".py",
   "mimetype": "text/x-python",
   "name": "python",
   "nbconvert_exporter": "python",
   "pygments_lexer": "ipython3",
   "version": "3.10.14"
  }
 },
 "nbformat": 4,
 "nbformat_minor": 2
}
