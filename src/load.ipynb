{
 "cells": [
  {
   "cell_type": "code",
   "execution_count": 248,
   "metadata": {},
   "outputs": [
    {
     "data": {
      "text/plain": [
       "True"
      ]
     },
     "execution_count": 248,
     "metadata": {},
     "output_type": "execute_result"
    }
   ],
   "source": [
    "from dotenv import load_dotenv\n",
    "import os\n",
    "from openai import OpenAI\n",
    "from pinecone import Pinecone, ServerlessSpec\n",
    "import json\n",
    "load_dotenv()"
   ]
  },
  {
   "cell_type": "code",
   "execution_count": 247,
   "metadata": {},
   "outputs": [],
   "source": [
    "pc = Pinecone(api_key=os.getenv(\"PINECONE_API_KEY\"))\n",
    "pc.create_index(\n",
    "    name='stock-advise',\n",
    "    dimension=1536,\n",
    "    metric='cosine',\n",
    "    spec=ServerlessSpec(cloud='aws', region='us-east-1')\n",
    ")\n",
    "\n"
   ]
  },
  {
   "cell_type": "code",
   "execution_count": 323,
   "metadata": {},
   "outputs": [],
   "source": [
    "data = json.load(open(\"/Users/ceo/Desktop/headstarter_SWE/Final_Project/Buddyfin-AI/src/data/reviews.json\"))"
   ]
  },
  {
   "cell_type": "code",
   "execution_count": 324,
   "metadata": {},
   "outputs": [],
   "source": [
    "new_data = []\n",
    "client = OpenAI()\n",
    "\n",
    "for stocks in data['best_stocks']:\n",
    "    input_text = f\"{stocks['company']} {stocks['ticker']}\"\n",
    "    response = client.embeddings.create(\n",
    "        input = input_text,\n",
    "        model = 'text-embedding-3-small',\n",
    "    )\n",
    "\n",
    "    embedding = response.data[0].embedding\n",
    "    new_data.append({\n",
    "        \"values\": embedding,\n",
    "        'id': stocks['company'],\n",
    "        'metadata':{\n",
    "            'ticker': stocks['ticker'],\n",
    "            'analysis': stocks['analysts_recommendation'],\n",
    "            'ratings': stocks['ratings'],\n",
    "        }\n",
    "        }\n",
    "    )\n",
    "\n",
    "for stocks in data['poor_stocks']:\n",
    "    input_text = f\"{stocks['company']} {stocks['ticker']}\"\n",
    "    response = client.embeddings.create(\n",
    "        input = input_text,\n",
    "        model = 'text-embedding-3-small',\n",
    "    )\n",
    "\n",
    "    embedding = response.data[0].embedding\n",
    "    new_data.append({\n",
    "        \"values\": embedding,\n",
    "        'id': stocks['company'],\n",
    "        'metadata':{\n",
    "            'ticker': stocks['ticker'],\n",
    "            'analysis': stocks['analysts_recommendation'],\n",
    "            'ratings': stocks['ratings'],\n",
    "        }\n",
    "        }\n",
    "    )\n",
    "\n"
   ]
  },
  {
   "cell_type": "code",
   "execution_count": 326,
   "metadata": {},
   "outputs": [
    {
     "data": {
      "text/plain": [
       "{'upserted_count': 15}"
      ]
     },
     "execution_count": 326,
     "metadata": {},
     "output_type": "execute_result"
    }
   ],
   "source": [
    "index = pc.Index('stock-advise')\n",
    "index.upsert(\n",
    "    vectors=new_data,\n",
    "    namespace='ns1'\n",
    ")"
   ]
  },
  {
   "cell_type": "code",
   "execution_count": null,
   "metadata": {},
   "outputs": [],
   "source": []
  },
  {
   "cell_type": "code",
   "execution_count": null,
   "metadata": {},
   "outputs": [],
   "source": [
    "\n"
   ]
  },
  {
   "cell_type": "code",
   "execution_count": null,
   "metadata": {},
   "outputs": [],
   "source": []
  }
 ],
 "metadata": {
  "kernelspec": {
   "display_name": "finance_rag",
   "language": "python",
   "name": "python3"
  },
  "language_info": {
   "codemirror_mode": {
    "name": "ipython",
    "version": 3
   },
   "file_extension": ".py",
   "mimetype": "text/x-python",
   "name": "python",
   "nbconvert_exporter": "python",
   "pygments_lexer": "ipython3",
   "version": "3.10.14"
  }
 },
 "nbformat": 4,
 "nbformat_minor": 2
}
