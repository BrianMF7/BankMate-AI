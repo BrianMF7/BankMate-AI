{
 "cells": [
  {
   "cell_type": "code",
   "execution_count": 222,
   "metadata": {},
   "outputs": [
    {
     "data": {
      "text/plain": [
       "True"
      ]
     },
     "execution_count": 222,
     "metadata": {},
     "output_type": "execute_result"
    }
   ],
   "source": [
    "from dotenv import load_dotenv\n",
    "import os\n",
    "from openai import OpenAI\n",
    "from pinecone import Pinecone, ServerlessSpec\n",
    "import json\n",
    "import requests\n",
    "import yfinance as yf\n",
    "load_dotenv()"
   ]
  },
  {
   "cell_type": "code",
   "execution_count": 240,
   "metadata": {},
   "outputs": [
    {
     "name": "stdout",
     "output_type": "stream",
     "text": [
      "None\n"
     ]
    },
    {
     "data": {
      "text/plain": [
       "'\\ndef get_stock_data(ticker):\\n    stock = yf.Ticker(ticker)\\n    hist = stock.history(period=\"1d\")\\n    dividend = stock.dividends[-1] if not stock.dividends.empty else 0\\n    \\n    data = {\\n        \"stock_name\": stock.info.get(\"shortName\", ticker),\\n        \"opening_price\": hist[\"Open\"].iloc[0],\\n        \"closing_price\": hist[\"Close\"].iloc[0],\\n        \"dividend\": dividend\\n    }\\n    return data\\n\\n# Input can be either a ticker symbol or a company name\\nuser_input = \"DISNEY\"  # Example: This could be \"DISNEY\" or the ticker symbol \"TSLA\"\\n\\n# Check if the input is a company name (i.e., not a ticker symbol)\\nticker = get_ticker_symbol(user_input)\\n\\nif ticker is None:\\n    # If no ticker is found, assume the input is already a valid ticker symbol\\n    ticker = user_input\\n\\n# Fetch stock data using the ticker symbol\\nstock_data = get_stock_data(ticker)\\n\\n# Path to your JSON file\\nfile_path = \"/Users/ceo/Desktop/headstarter_SWE/Final_Project/Buddyfin-AI/src/data/reviews.json\"\\n\\n# Load existing data from the file\\ntry:\\n    with open(file_path, \"r\") as f:\\n        existing_data = json.load(f)\\nexcept FileNotFoundError:\\n    # If the file does not exist, initialize an empty structure\\n    existing_data = {\"stocks_data\": []}\\n\\n# Add the new stock data to the existing data\\nexisting_data[\"stocks_data\"].append(stock_data)\\n\\n# Write the updated data back to the file\\nwith open(file_path, \"w\") as f:\\n    json.dump(existing_data, f, indent=4)\\n\\nprint(f\"Data for {user_input} (Ticker: {ticker}) has been updated successfully!\")\\n'"
      ]
     },
     "execution_count": 240,
     "metadata": {},
     "output_type": "execute_result"
    }
   ],
   "source": [
    "import json\n",
    "import yfinance as yf\n",
    "\n",
    "def get_ticker_symbol(company_name):\n",
    "    base_url = f\"https://query1.finance.yahoo.com/v1/finance/search?q={company_name}\"\n",
    "    response = requests.get(base_url)\n",
    "    if response.status_code == 200:\n",
    "        result = response.json()\n",
    "        print(result)\n",
    "        if result.get(\"quotes\"):\n",
    "            return result[\"quotes\"][0][\"symbol\"]\n",
    "            \n",
    "    return None\n",
    "\n",
    "print(get_ticker_symbol(\"Apple\"))\n",
    "\n",
    "\n",
    "'''\n",
    "def get_stock_data(ticker):\n",
    "    stock = yf.Ticker(ticker)\n",
    "    hist = stock.history(period=\"1d\")\n",
    "    dividend = stock.dividends[-1] if not stock.dividends.empty else 0\n",
    "    \n",
    "    data = {\n",
    "        \"stock_name\": stock.info.get(\"shortName\", ticker),\n",
    "        \"opening_price\": hist[\"Open\"].iloc[0],\n",
    "        \"closing_price\": hist[\"Close\"].iloc[0],\n",
    "        \"dividend\": dividend\n",
    "    }\n",
    "    return data\n",
    "\n",
    "# Input can be either a ticker symbol or a company name\n",
    "user_input = \"DISNEY\"  # Example: This could be \"DISNEY\" or the ticker symbol \"TSLA\"\n",
    "\n",
    "# Check if the input is a company name (i.e., not a ticker symbol)\n",
    "ticker = get_ticker_symbol(user_input)\n",
    "\n",
    "if ticker is None:\n",
    "    # If no ticker is found, assume the input is already a valid ticker symbol\n",
    "    ticker = user_input\n",
    "\n",
    "# Fetch stock data using the ticker symbol\n",
    "stock_data = get_stock_data(ticker)\n",
    "\n",
    "# Path to your JSON file\n",
    "file_path = \"/Users/ceo/Desktop/headstarter_SWE/Final_Project/Buddyfin-AI/src/data/reviews.json\"\n",
    "\n",
    "# Load existing data from the file\n",
    "try:\n",
    "    with open(file_path, \"r\") as f:\n",
    "        existing_data = json.load(f)\n",
    "except FileNotFoundError:\n",
    "    # If the file does not exist, initialize an empty structure\n",
    "    existing_data = {\"stocks_data\": []}\n",
    "\n",
    "# Add the new stock data to the existing data\n",
    "existing_data[\"stocks_data\"].append(stock_data)\n",
    "\n",
    "# Write the updated data back to the file\n",
    "with open(file_path, \"w\") as f:\n",
    "    json.dump(existing_data, f, indent=4)\n",
    "\n",
    "print(f\"Data for {user_input} (Ticker: {ticker}) has been updated successfully!\")\n",
    "'''"
   ]
  },
  {
   "cell_type": "code",
   "execution_count": null,
   "metadata": {},
   "outputs": [],
   "source": []
  },
  {
   "cell_type": "code",
   "execution_count": null,
   "metadata": {},
   "outputs": [],
   "source": []
  },
  {
   "cell_type": "code",
   "execution_count": null,
   "metadata": {},
   "outputs": [],
   "source": []
  },
  {
   "cell_type": "code",
   "execution_count": null,
   "metadata": {},
   "outputs": [],
   "source": []
  },
  {
   "cell_type": "code",
   "execution_count": null,
   "metadata": {},
   "outputs": [],
   "source": []
  },
  {
   "cell_type": "code",
   "execution_count": null,
   "metadata": {},
   "outputs": [],
   "source": [
    "\n"
   ]
  },
  {
   "cell_type": "code",
   "execution_count": null,
   "metadata": {},
   "outputs": [],
   "source": []
  },
  {
   "cell_type": "code",
   "execution_count": null,
   "metadata": {},
   "outputs": [],
   "source": [
    "\n"
   ]
  },
  {
   "cell_type": "code",
   "execution_count": null,
   "metadata": {},
   "outputs": [],
   "source": []
  }
 ],
 "metadata": {
  "kernelspec": {
   "display_name": "finance_rag",
   "language": "python",
   "name": "python3"
  },
  "language_info": {
   "codemirror_mode": {
    "name": "ipython",
    "version": 3
   },
   "file_extension": ".py",
   "mimetype": "text/x-python",
   "name": "python",
   "nbconvert_exporter": "python",
   "pygments_lexer": "ipython3",
   "version": "3.10.14"
  }
 },
 "nbformat": 4,
 "nbformat_minor": 2
}
